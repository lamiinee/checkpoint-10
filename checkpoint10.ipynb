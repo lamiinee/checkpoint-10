{
 "cells": [
  {
   "cell_type": "code",
   "execution_count": 5,
   "id": "f68953ba",
   "metadata": {},
   "outputs": [
    {
     "name": "stdout",
     "output_type": "stream",
     "text": [
      "False\n",
      "True\n"
     ]
    }
   ],
   "source": [
    "def exo1(a, b):\n",
    "    minimum = 0\n",
    "    maximum = len(a) - 1\n",
    "    while minimum <= maximum:\n",
    "        milieu = (minimum + maximum) // 2\n",
    "        if a[milieu] == b:\n",
    "            return True\n",
    "        elif a[milieu] < b:\n",
    "            minimum = milieu + 1\n",
    "        else:\n",
    "            maximum = milieu - 1\n",
    "    return False\n",
    "print(exo1([1, 2, 3, 5, 8], 6)) \n",
    "print(exo1([1, 2, 3, 5, 8], 5)) "
   ]
  },
  {
   "cell_type": "code",
   "execution_count": 10,
   "id": "a37a9a52",
   "metadata": {},
   "outputs": [
    {
     "name": "stdout",
     "output_type": "stream",
     "text": [
      "81\n"
     ]
    }
   ],
   "source": [
    "def puissance(a, b):\n",
    "    if b == 0:\n",
    "        return 1\n",
    "    elif b % 2 == 0:\n",
    "        return puissance(a, b//2) ** 2\n",
    "    else:\n",
    "        return a * puissance(a, b-1)\n",
    "print(puissance(3, 4)) "
   ]
  },
  {
   "cell_type": "code",
   "execution_count": 8,
   "id": "388cc13b",
   "metadata": {},
   "outputs": [
    {
     "name": "stdout",
     "output_type": "stream",
     "text": [
      "[13, 22, 29, 37, 46, 49, 52, 56, 71]\n"
     ]
    }
   ],
   "source": [
    "def bulles(a):\n",
    "    b = len(a)\n",
    "    for i in range(b):\n",
    "        for j in range(0, b-i-1):\n",
    "            if a[j] > a[j+1]:\n",
    "                a[j], a[j+1] = a[j+1], a[j]\n",
    "\n",
    "a = [29, 13, 22, 37, 52, 49, 46, 71, 56]\n",
    "bulles(a)\n"
   ]
  },
  {
   "cell_type": "code",
   "execution_count": 12,
   "id": "4ce9e65f",
   "metadata": {},
   "outputs": [
    {
     "name": "stdout",
     "output_type": "stream",
     "text": [
      "[13, 22, 29, 37, 46, 49, 52, 56, 71]\n"
     ]
    }
   ],
   "source": [
    "def merge(a):\n",
    "    if len(a) > 1:\n",
    "        milieu = len(a) // 2\n",
    "        gauche = a[:milieu]\n",
    "        droite = a[milieu:]\n",
    "        merge(gauche)\n",
    "        merge(droite)\n",
    "        i = 0\n",
    "        j = 0\n",
    "        k = 0\n",
    "        while i < len(gauche) and j < len(droite):\n",
    "            if gauche[i] < droite[j]:\n",
    "                a[k] = gauche[i]\n",
    "                i += 1\n",
    "            else:\n",
    "                a[k] = droite[j]\n",
    "                j += 1\n",
    "            k += 1\n",
    "        while i < len(gauche):\n",
    "            a[k] = gauche[i]\n",
    "            i += 1\n",
    "            k += 1\n",
    "        while j < len(droite):\n",
    "            a[k] = droite[j]\n",
    "            j += 1\n",
    "            k += 1\n",
    "a = [29, 13, 22, 37, 52, 49, 46, 71, 56]\n",
    "merge(a)\n"
   ]
  },
  {
   "cell_type": "code",
   "execution_count": 15,
   "id": "0f28e889",
   "metadata": {},
   "outputs": [
    {
     "data": {
      "text/plain": [
       "[13, 22, 29, 37, 46, 49, 49, 52, 56, 71]"
      ]
     },
     "execution_count": 15,
     "metadata": {},
     "output_type": "execute_result"
    }
   ],
   "source": [
    "def exo5(a):\n",
    "    if len(a) <= 1:\n",
    "        return a\n",
    "    else:\n",
    "        pivot = a[0]\n",
    "        gauche = [x for x in a[1:] if x < pivot]\n",
    "        droite = [x for x in a[1:] if x >= pivot]\n",
    "        return exo5(gauche) + [pivot] + exo5(droite)\n",
    "a = [29, 13, 22, 37, 52, 49, 46,49, 56, 71]\n",
    "exo5(a)"
   ]
  },
  {
   "cell_type": "code",
   "execution_count": null,
   "id": "703f42eb",
   "metadata": {},
   "outputs": [],
   "source": []
  }
 ],
 "metadata": {
  "kernelspec": {
   "display_name": "Python 3 (ipykernel)",
   "language": "python",
   "name": "python3"
  },
  "language_info": {
   "codemirror_mode": {
    "name": "ipython",
    "version": 3
   },
   "file_extension": ".py",
   "mimetype": "text/x-python",
   "name": "python",
   "nbconvert_exporter": "python",
   "pygments_lexer": "ipython3",
   "version": "3.9.13"
  }
 },
 "nbformat": 4,
 "nbformat_minor": 5
}
